{
 "cells": [
  {
   "cell_type": "code",
   "execution_count": null,
   "metadata": {
    "collapsed": true
   },
   "outputs": [],
   "source": [
    "import pandas as pd\n",
    "\n",
    "#Load Files\n",
    "#Amazon Report File\n",
    "opFile = 'amazon_all_listings_report.txt'\n",
    "df = pd.read_csv(opFile, sep='\\t', encoding = \"ISO-8859-1\")\n",
    "\n",
    "#HeidiSQL Export of StoneEdge.ComplianceData\n",
    "complianceData = pd.read_csv('ebay_compliance_listings.csv')\n",
    "\n",
    "#Filter items with international templates\n",
    "df_filtered = df.loc[df2['merchant-shipping-group'].str.contains(\"-INT\")]\n",
    "df_sku = df_filtered[['seller-sku','quantity','merchant-shipping-group']] \n",
    "df_sku = df_sku.rename(columns={'seller-sku': 'sku'})\n",
    "\n",
    "#Merge two spreadsheets\n",
    "cd = complianceData.rename(columns={'LocalSku': 'sku'})\n",
    "op = pd.merge(df2_sku, cd, on='sku', how='left')\n",
    "\n"
   ]
  },
  {
   "cell_type": "code",
   "execution_count": null,
   "metadata": {
    "collapsed": true
   },
   "outputs": [],
   "source": [
    "#Rows that don't have a control number equal to ear99\n",
    "skus =  op.query('ControlNumber != \"EAR99\" and quantity > 0 ')\n",
    "skus.to_clipboard()\n",
    "skus.shape"
   ]
  },
  {
   "cell_type": "code",
   "execution_count": 2,
   "metadata": {
    "collapsed": true
   },
   "outputs": [],
   "source": [
    "#Examine a particular SKU\n",
    "complianceData.loc['sku' == '2PR-CLB-BRAHMA-99-3544-BK-MD']['ControlNumber']"
   ]
  },
  {
   "cell_type": "code",
   "execution_count": null,
   "metadata": {
    "collapsed": true
   },
   "outputs": [],
   "source": []
  }
 ],
 "metadata": {
  "kernelspec": {
   "display_name": "Python 3",
   "language": "python",
   "name": "python3"
  },
  "language_info": {
   "codemirror_mode": {
    "name": "ipython",
    "version": 3
   },
   "file_extension": ".py",
   "mimetype": "text/x-python",
   "name": "python",
   "nbconvert_exporter": "python",
   "pygments_lexer": "ipython3",
   "version": "3.6.1"
  }
 },
 "nbformat": 4,
 "nbformat_minor": 2
}
