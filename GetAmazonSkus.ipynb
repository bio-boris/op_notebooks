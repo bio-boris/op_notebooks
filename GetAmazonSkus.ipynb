{
 "cells": [
  {
   "cell_type": "markdown",
   "metadata": {},
   "source": [
    "## Getting SKUs from an amazon product feed and printing to file"
   ]
  },
  {
   "cell_type": "code",
   "execution_count": null,
   "metadata": {
    "collapsed": true
   },
   "outputs": [],
   "source": []
  },
  {
   "cell_type": "code",
   "execution_count": 79,
   "metadata": {},
   "outputs": [
    {
     "name": "stdout",
     "output_type": "stream",
     "text": [
      "Getting SKUS Before\n",
      "Getting SKUS After\n"
     ]
    }
   ],
   "source": [
    "from bs4 import BeautifulSoup\n",
    "\n",
    "before = 'C:\\\\Users\\\\boris.sadkhin\\\\Downloads\\\\new\\\\before\\\\productfeed'\n",
    "after = 'C:\\\\Users\\\\boris.sadkhin\\\\Downloads\\\\new\\\\after_changes\\\\productfeed'\n",
    "\n",
    "\n",
    "with open(before) as f:\n",
    "    print(\"Getting SKUS Before\")\n",
    "    soup_before = BeautifulSoup(f,'xml',from_encoding='utf-16')\n",
    "    before_skus = soup_before.find_all('SKU')\n",
    "\n",
    "with open(after) as f:\n",
    "    print(\"Getting SKUS After\")\n",
    "    soup_after = BeautifulSoup(f,'xml',from_encoding='utf-16')\n",
    "    after_skus = soup_after.find_all('SKU')\n",
    "\n",
    "\n"
   ]
  },
  {
   "cell_type": "code",
   "execution_count": 86,
   "metadata": {
    "collapsed": true
   },
   "outputs": [],
   "source": [
    "with open('before_skus','x') as f:\n",
    "    for sku in before_skus:\n",
    "        f.write(sku.get_text() + \"\\n\")"
   ]
  },
  {
   "cell_type": "code",
   "execution_count": 87,
   "metadata": {
    "collapsed": true
   },
   "outputs": [],
   "source": [
    "with open('after_skus','x') as f:\n",
    "    for sku in after_skus:\n",
    "        f.write(sku.get_text() + \"\\n\")"
   ]
  }
 ],
 "metadata": {
  "kernelspec": {
   "display_name": "Python 3",
   "language": "python",
   "name": "python3"
  },
  "language_info": {
   "codemirror_mode": {
    "name": "ipython",
    "version": 3
   },
   "file_extension": ".py",
   "mimetype": "text/x-python",
   "name": "python",
   "nbconvert_exporter": "python",
   "pygments_lexer": "ipython3",
   "version": "3.6.1"
  }
 },
 "nbformat": 4,
 "nbformat_minor": 2
}
